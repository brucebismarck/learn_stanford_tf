{
 "cells": [
  {
   "cell_type": "code",
   "execution_count": 2,
   "metadata": {},
   "outputs": [],
   "source": [
    "\"\"\" Simple linear regression example in TensorFlow\n",
    "This program tries to predict the number of thefts from \n",
    "the number of fire in the city of Chicago\n",
    "Author: Chip Huyen\n",
    "Prepared for the class CS 20SI: \"TensorFlow for Deep Learning Research\"\n",
    "cs20si.stanford.edu\n",
    "\"\"\"\n",
    "import os\n",
    "os.environ['TF_CPP_MIN_LOG_LEVEL']='2'\n",
    "\n",
    "import numpy as np\n",
    "import matplotlib.pyplot as plt\n",
    "import tensorflow as tf\n",
    "import xlrd\n",
    "\n",
    "import utils\n",
    "\n",
    "DATA_FILE = 'data/fire_theft.xls'\n",
    "\n",
    "# Phase 1: Assemble the graph\n",
    "# Step 1: read in data from the .xls file\n",
    "book = xlrd.open_workbook(DATA_FILE, encoding_override='utf-8')\n",
    "sheet = book.sheet_by_index(0)\n",
    "data = np.asarray([sheet.row_values(i) for i in range(1, sheet.nrows)])\n",
    "n_samples = sheet.nrows - 1\n",
    "\n"
   ]
  },
  {
   "cell_type": "code",
   "execution_count": 5,
   "metadata": {},
   "outputs": [
    {
     "data": {
      "text/plain": [
       "(42, 2)"
      ]
     },
     "execution_count": 5,
     "metadata": {},
     "output_type": "execute_result"
    }
   ],
   "source": [
    "data.shape"
   ]
  },
  {
   "cell_type": "code",
   "execution_count": 29,
   "metadata": {},
   "outputs": [],
   "source": [
    "# Step 2: create placeholders for input X (number of fire) and label Y (number of theft)\n",
    "# Both have the type float32\n",
    "X = tf.placeholder(tf.float32, name = \"X\") # no need to specify the shape here\n",
    "Y = tf.placeholder(tf.float32, name = \"Y\")\n",
    "# Step 3: create weight and bias, initialized to 0\n",
    "# name your variables w and b\n",
    "w = tf.Variable(0.0, name = \"weights\")\n",
    "b = tf.Variable(0.0, name = \"bias\")\n",
    "\n",
    "#init_wb = tf.variables_initializer([w,b], name = \"init_wb\")\n",
    "#with tf.Session() as sess:\n",
    "#    sess.run(init_wb)\n",
    "# no need to initialize here, just right as 0.0\n",
    "\n",
    "\n",
    "# Step 4: predict Y (number of theft) from the number of fire\n",
    "# name your variable Y_predicted\n",
    "xw_mul = tf.multiply(X,w) \n",
    "Y_predicted = tf.add(xw_mul, b)\n",
    "\n",
    "# Step 5: use the square error as the loss function\n",
    "# name your variable loss\n",
    "sq_loss = tf.square(Y - Y_predicted, name = \"loss\")\n",
    "\n",
    "# Step 6: using gradient descent with learning rate of 0.01 to minimize loss\n",
    "optimizer = tf.train.GradientDescentOptimizer(learning_rate = 0.001).minimize(sq_loss)\n"
   ]
  },
  {
   "cell_type": "code",
   "execution_count": 32,
   "metadata": {},
   "outputs": [
    {
     "name": "stdout",
     "output_type": "stream",
     "text": [
      "Epoch 0: 2069.6319333978354\n",
      "Epoch 1: 4186.644291593188\n",
      "Epoch 2: 6278.9470145950545\n",
      "Epoch 3: 8347.455060788901\n",
      "Epoch 4: 10393.046244877063\n",
      "Epoch 5: 12416.560889687195\n",
      "Epoch 6: 14418.80565167075\n",
      "Epoch 7: 16400.553990474396\n",
      "Epoch 8: 18362.548431600473\n",
      "Epoch 9: 20305.5004432148\n",
      "Epoch 10: 22230.093525579272\n",
      "Epoch 11: 24136.983405642903\n",
      "Epoch 12: 26026.7998562267\n",
      "Epoch 13: 27900.14699006824\n",
      "Epoch 14: 29757.605830128687\n",
      "Epoch 15: 31599.733704371094\n",
      "Epoch 16: 33427.06619949105\n",
      "Epoch 17: 35240.11825746225\n",
      "Epoch 18: 37039.38434222595\n",
      "Epoch 19: 38825.34055545594\n",
      "Epoch 20: 40598.443040766855\n",
      "Epoch 21: 42359.13217024974\n",
      "Epoch 22: 44107.83058595789\n",
      "Epoch 23: 45844.94445399774\n",
      "Epoch 24: 47570.86532706447\n",
      "Epoch 25: 49285.96995202237\n",
      "Epoch 26: 50990.6200474533\n",
      "Epoch 27: 52685.164760944324\n",
      "Epoch 28: 54369.93939207909\n",
      "Epoch 29: 56045.26784304733\n",
      "Epoch 30: 57711.46138163124\n",
      "Epoch 31: 59368.81978183967\n",
      "Epoch 32: 61017.63204769259\n",
      "Epoch 33: 62658.1761219473\n",
      "Epoch 34: 64290.720805557525\n",
      "Epoch 35: 65915.52513707224\n",
      "Epoch 36: 67532.8378170681\n",
      "Epoch 37: 69142.90007031374\n",
      "Epoch 38: 70745.94342603449\n",
      "Epoch 39: 72342.1913436451\n",
      "Epoch 40: 73931.85939997667\n",
      "Epoch 41: 75515.15592423847\n",
      "Epoch 42: 77092.28229552422\n",
      "Epoch 43: 78663.43241458762\n",
      "Epoch 44: 80228.79339373912\n",
      "Epoch 45: 81788.54577181899\n",
      "Epoch 46: 83342.86420827449\n",
      "Epoch 47: 84891.91715523656\n",
      "Epoch 48: 86435.86721522204\n",
      "Epoch 49: 87974.87224343617\n"
     ]
    }
   ],
   "source": [
    "# Phase 2: Train our model\n",
    "with tf.Session() as sess:\n",
    "\t# Step 7: initialize the necessary variables, in this case, w and b\n",
    "\t# TO - DO\t\n",
    "    sess.run(tf.global_variables_initializer()) # initialize variables here rather than\n",
    "    # in the defination step\n",
    "    writer = tf.summary.FileWriter(\"./graphs/linear_reg\", sess.graph)\n",
    "\n",
    "\t# Step 8: train the model\n",
    "    total_loss = 0\n",
    "    for i in range(50):   \n",
    "        # run 100 epochs\n",
    "        for x, y in data:\n",
    "            # Session runs optimizer to minimize loss and fetch the value of loss. Name the received value as l\n",
    "            # TO DO: write sess.run()\n",
    "            _ , l = sess.run([optimizer, sq_loss], feed_dict={X:x, Y:y})\n",
    "            total_loss += l\n",
    "        print(\"Epoch {0}: {1}\".format(i, total_loss/n_samples))\n",
    "    \n",
    "    writer.close()\n",
    "    \n",
    "    w,b = sess.run([w,b])\n",
    "# plot the results\n",
    "# X, Y = data.T[0], data.T[1]\n",
    "# plt.plot(X, Y, 'bo', label='Real data')\n",
    "# plt.plot(X, X * w + b, 'r', label='Predicted data')\n",
    "# plt.legend()\n",
    "# plt.show()"
   ]
  },
  {
   "cell_type": "code",
   "execution_count": 33,
   "metadata": {},
   "outputs": [
    {
     "data": {
      "image/png": "[encoded data removed]",
      "text/plain": [
       "<matplotlib.figure.Figure at 0x1fe4ab985f8>"
      ]
     },
     "metadata": {},
     "output_type": "display_data"
    }
   ],
   "source": [
    "X, Y = data.T[0], data.T[1]\n",
    "plt.plot(X, Y, 'bo', label='Real data')\n",
    "plt.plot(X, X * w + b, 'r', label='Predicted data')\n",
    "plt.legend()\n",
    "plt.show()"
   ]
  },
  {
   "cell_type": "code",
   "execution_count": 34,
   "metadata": {},
   "outputs": [
    {
     "data": {
      "text/plain": [
       "1.9974703"
      ]
     },
     "execution_count": 34,
     "metadata": {},
     "output_type": "execute_result"
    }
   ],
   "source": [
    "w"
   ]
  },
  {
   "cell_type": "code",
   "execution_count": 35,
   "metadata": {},
   "outputs": [
    {
     "data": {
      "text/plain": [
       "12.568723"
      ]
     },
     "execution_count": 35,
     "metadata": {},
     "output_type": "execute_result"
    }
   ],
   "source": [
    "b"
   ]
  },
  {
   "cell_type": "code",
   "execution_count": null,
   "metadata": {
    "collapsed": true
   },
   "outputs": [],
   "source": []
  }
 ],
 "metadata": {
  "kernelspec": {
   "display_name": "Python 3",
   "language": "python",
   "name": "python3"
  },
  "language_info": {
   "codemirror_mode": {
    "name": "ipython",
    "version": 3
   },
   "file_extension": ".py",
   "mimetype": "text/x-python",
   "name": "python",
   "nbconvert_exporter": "python",
   "pygments_lexer": "ipython3",
   "version": "3.6.1"
  }
 },
 "nbformat": 4,
 "nbformat_minor": 2
}
